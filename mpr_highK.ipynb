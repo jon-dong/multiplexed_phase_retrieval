{
 "cells": [
  {
   "cell_type": "code",
   "execution_count": 1,
   "metadata": {},
   "outputs": [],
   "source": [
    "import numpy as np\n",
    "import matplotlib.pyplot as plt\n",
    "import seaborn"
   ]
  },
  {
   "cell_type": "markdown",
   "metadata": {},
   "source": [
    "# Initialization"
   ]
  },
  {
   "cell_type": "code",
   "execution_count": 2,
   "metadata": {},
   "outputs": [
    {
     "name": "stdout",
     "output_type": "stream",
     "text": [
      "Current oversampling: 78.125\n"
     ]
    }
   ],
   "source": [
    "n = 10000  # number of samples\n",
    "d = 128  # input dimension\n",
    "k = 2  # number of hidden nodes\n",
    "print(f\"Current oversampling: {n / d}\")\n",
    "\n",
    "X = np.random.randn(d, n) + 1j * np.random.randn(d, n)  # inputs\n",
    "T_true = np.random.randn(k, d) + 1j * np.random.randn(k, d)  # weight matrix\n",
    "W = np.array(np.linspace(start=0.5, stop=1., num=k))  # second layer coefficients, must be of size k\n",
    "\n",
    "y = W @ (np.abs(T_true @ X) ** 2)  # measured total intensities"
   ]
  },
  {
   "cell_type": "markdown",
   "metadata": {},
   "source": [
    "# Reconstruction"
   ]
  },
  {
   "cell_type": "code",
   "execution_count": 3,
   "metadata": {},
   "outputs": [],
   "source": [
    "Z = X.conj() @ np.diag(y) @ X.T  # weighted covariance matrix\n",
    "\n",
    "from scipy.linalg import eigh\n",
    "lmax, xmax = eigh(Z, subset_by_index=[d-k, d-1])  # compute the 2 largest eigenvectors\n",
    "T_est = xmax.T"
   ]
  },
  {
   "cell_type": "markdown",
   "metadata": {},
   "source": [
    "# Evaluation"
   ]
  },
  {
   "cell_type": "code",
   "execution_count": 4,
   "metadata": {},
   "outputs": [
    {
     "name": "stdout",
     "output_type": "stream",
     "text": [
      "Index 0 correlation: 0.8438806466387326\n",
      "Index 1 correlation: 0.9403728801680586\n"
     ]
    }
   ],
   "source": [
    "corr = np.zeros(k)\n",
    "for i in range(k):\n",
    "    t_true = T_true[i, :]\n",
    "    t_est = T_est[i, :]\n",
    "    corr[i] = np.abs(t_true.T.conj() @ t_est) / np.linalg.norm(t_true) / np.linalg.norm(t_est)\n",
    "    print(f\"Index {i} correlation: {corr[i]}\")"
   ]
  },
  {
   "cell_type": "markdown",
   "metadata": {},
   "source": [
    "# Loop on k"
   ]
  },
  {
   "cell_type": "code",
   "execution_count": 12,
   "metadata": {},
   "outputs": [
    {
     "name": "stderr",
     "output_type": "stream",
     "text": [
      "  0%|          | 0/10 [00:00<?, ?it/s]"
     ]
    },
    {
     "name": "stdout",
     "output_type": "stream",
     "text": [
      "Current oversampling: 39.0625\n"
     ]
    },
    {
     "name": "stderr",
     "output_type": "stream",
     "text": [
      " 10%|█         | 1/10 [00:45<06:47, 45.24s/it]"
     ]
    },
    {
     "name": "stdout",
     "output_type": "stream",
     "text": [
      "Index 0 correlation (with 0): 0.9370421856679441\n"
     ]
    },
    {
     "name": "stderr",
     "output_type": "stream",
     "text": [
      " 20%|██        | 2/10 [01:30<06:02, 45.33s/it]"
     ]
    },
    {
     "name": "stdout",
     "output_type": "stream",
     "text": [
      "Index 0 correlation (with 0): 0.6918596362509769\n",
      "Index 1 correlation (with 1): 0.8924769350625711\n"
     ]
    },
    {
     "name": "stderr",
     "output_type": "stream",
     "text": [
      " 30%|███       | 3/10 [02:16<05:17, 45.33s/it]"
     ]
    },
    {
     "name": "stdout",
     "output_type": "stream",
     "text": [
      "Index 0 correlation (with 0): 0.5759416054665832\n",
      "Index 1 correlation (with 1): 0.7717842244314287\n",
      "Index 2 correlation (with 2): 0.8093606563698111\n"
     ]
    },
    {
     "name": "stderr",
     "output_type": "stream",
     "text": [
      " 40%|████      | 4/10 [03:01<04:31, 45.32s/it]"
     ]
    },
    {
     "name": "stdout",
     "output_type": "stream",
     "text": [
      "Index 0 correlation (with 1): 0.19280346296508602\n",
      "Index 1 correlation (with 1): 0.4066745550420081\n",
      "Index 2 correlation (with 2): 0.6159879325300365\n",
      "Index 3 correlation (with 3): 0.6963642688339281\n"
     ]
    },
    {
     "name": "stderr",
     "output_type": "stream",
     "text": [
      " 50%|█████     | 5/10 [03:46<03:46, 45.31s/it]"
     ]
    },
    {
     "name": "stdout",
     "output_type": "stream",
     "text": [
      "Index 0 correlation (with 0): 0.21986234008279107\n",
      "Index 1 correlation (with 1): 0.3104584106625213\n",
      "Index 2 correlation (with 2): 0.4026419385743144\n",
      "Index 3 correlation (with 3): 0.5412799860599823\n",
      "Index 4 correlation (with 4): 0.7342237003591683\n"
     ]
    },
    {
     "name": "stderr",
     "output_type": "stream",
     "text": [
      " 60%|██████    | 6/10 [04:31<03:01, 45.29s/it]"
     ]
    },
    {
     "name": "stdout",
     "output_type": "stream",
     "text": [
      "Index 0 correlation (with 3): 0.12654767387349894\n",
      "Index 1 correlation (with 1): 0.3091013041217881\n",
      "Index 2 correlation (with 5): 0.3102792419201167\n",
      "Index 3 correlation (with 2): 0.30763904766091094\n",
      "Index 4 correlation (with 3): 0.3988031981697586\n",
      "Index 5 correlation (with 4): 0.558024146975763\n"
     ]
    },
    {
     "name": "stderr",
     "output_type": "stream",
     "text": [
      " 70%|███████   | 7/10 [05:16<02:15, 45.18s/it]"
     ]
    },
    {
     "name": "stdout",
     "output_type": "stream",
     "text": [
      "Index 0 correlation (with 1): 0.1271996735627917\n",
      "Index 1 correlation (with 1): 0.2405793278591104\n",
      "Index 2 correlation (with 3): 0.14000818250921016\n",
      "Index 3 correlation (with 5): 0.3271958559490666\n",
      "Index 4 correlation (with 6): 0.3440495194754174\n",
      "Index 5 correlation (with 6): 0.4371096516360009\n",
      "Index 6 correlation (with 4): 0.5636981143945294\n"
     ]
    },
    {
     "name": "stderr",
     "output_type": "stream",
     "text": [
      " 80%|████████  | 8/10 [06:01<01:30, 45.17s/it]"
     ]
    },
    {
     "name": "stdout",
     "output_type": "stream",
     "text": [
      "Index 0 correlation (with 4): 0.1989275084704613\n",
      "Index 1 correlation (with 3): 0.2385278095458983\n",
      "Index 2 correlation (with 1): 0.22472230928491344\n",
      "Index 3 correlation (with 2): 0.2462477802235146\n",
      "Index 4 correlation (with 4): 0.30798625058912066\n",
      "Index 5 correlation (with 7): 0.35017954800064754\n",
      "Index 6 correlation (with 6): 0.27553765608460173\n",
      "Index 7 correlation (with 6): 0.2924243571480628\n"
     ]
    },
    {
     "name": "stderr",
     "output_type": "stream",
     "text": [
      " 90%|█████████ | 9/10 [06:47<00:45, 45.13s/it]"
     ]
    },
    {
     "name": "stdout",
     "output_type": "stream",
     "text": [
      "Index 0 correlation (with 6): 0.1641009394042537\n",
      "Index 1 correlation (with 3): 0.16679299498154837\n",
      "Index 2 correlation (with 7): 0.1840267332444747\n",
      "Index 3 correlation (with 4): 0.19932815331253068\n",
      "Index 4 correlation (with 4): 0.27002383311833966\n",
      "Index 5 correlation (with 6): 0.20062290592289117\n",
      "Index 6 correlation (with 5): 0.23896772328975127\n",
      "Index 7 correlation (with 8): 0.35847148120107863\n",
      "Index 8 correlation (with 7): 0.32678812124764317\n"
     ]
    },
    {
     "name": "stderr",
     "output_type": "stream",
     "text": [
      "100%|██████████| 10/10 [07:32<00:00, 45.20s/it]"
     ]
    },
    {
     "name": "stdout",
     "output_type": "stream",
     "text": [
      "Index 0 correlation (with 8): 0.1989211046717214\n",
      "Index 1 correlation (with 7): 0.13281319470950195\n",
      "Index 2 correlation (with 1): 0.16414900415866035\n",
      "Index 3 correlation (with 9): 0.1945041217969702\n",
      "Index 4 correlation (with 5): 0.2257066542425926\n",
      "Index 5 correlation (with 8): 0.21373048025248936\n",
      "Index 6 correlation (with 5): 0.22946456061131648\n",
      "Index 7 correlation (with 7): 0.309703049905635\n",
      "Index 8 correlation (with 4): 0.3455691995995561\n",
      "Index 9 correlation (with 8): 0.460657518946858\n"
     ]
    },
    {
     "name": "stderr",
     "output_type": "stream",
     "text": [
      "\n"
     ]
    }
   ],
   "source": [
    "from tqdm import tqdm\n",
    "n = 10000  # number of samples\n",
    "d = 256  # input dimension\n",
    "print(f\"Current oversampling: {n / d}\")\n",
    "\n",
    "k_max = 10\n",
    "corr_mat = np.zeros((k_max, k_max))\n",
    "for k in tqdm(range(1, k_max+1)):  # number of hidden nodes\n",
    "    X = np.random.randn(d, n) + 1j * np.random.randn(d, n)  # inputs\n",
    "    T_true = np.random.randn(k, d) + 1j * np.random.randn(k, d)  # weight matrix\n",
    "    W = np.array(np.linspace(start=0.5, stop=1., num=k))  # second layer coefficients, must be of size k\n",
    "\n",
    "    y = W @ (np.abs(T_true @ X) ** 2)  # measured total intensities\n",
    "    Z = X.conj() @ np.diag(y) @ X.T  # weighted covariance matrix\n",
    "\n",
    "    lmax, xmax = eigh(Z, subset_by_index=[d-k, d-1])  # compute the 2 largest eigenvectors\n",
    "    T_est = xmax.T\n",
    "    for i in range(k):\n",
    "        t_true = T_true[i, :]\n",
    "        t_est = T_est[i, :]\n",
    "#         corr_mat[k, i] = np.abs(t_true.T.conj() @ t_est) / np.linalg.norm(t_true) / np.linalg.norm(t_est)\n",
    "        \n",
    "        \n",
    "        max_corr = 0\n",
    "        for j in range(k):\n",
    "            t_true = T_true[j, :]\n",
    "            curr_corr = np.abs(t_true.T.conj() @ t_est) / np.linalg.norm(t_true) / np.linalg.norm(t_est)\n",
    "            if curr_corr > max_corr:\n",
    "                max_idx = j\n",
    "                max_corr = curr_corr\n",
    "        corr_mat[k-1, i] = max_corr\n",
    "#         print(f\"Index {i} correlation (with {max_idx}): {max_corr}\")\n",
    "        print(f\"Index {i} correlation (with {max_idx}): {corr_mat[k-1, i]}\")"
   ]
  },
  {
   "cell_type": "code",
   "execution_count": 43,
   "metadata": {},
   "outputs": [
    {
     "data": {
      "image/png": "[encoded data removed]",
      "text/plain": [
       "<Figure size 1440x720 with 1 Axes>"
      ]
     },
     "metadata": {
      "needs_background": "light"
     },
     "output_type": "display_data"
    }
   ],
   "source": [
    "plt.figure(figsize=(20,10))\n",
    "plt.plot(corr_mat, '.c', markersize=16)\n",
    "plt.ylim([0, 1]);"
   ]
  }
 ],
 "metadata": {
  "kernelspec": {
   "display_name": "Python 3",
   "language": "python",
   "name": "python3"
  },
  "language_info": {
   "codemirror_mode": {
    "name": "ipython",
    "version": 3
   },
   "file_extension": ".py",
   "mimetype": "text/x-python",
   "name": "python",
   "nbconvert_exporter": "python",
   "pygments_lexer": "ipython3",
   "version": "3.8.2"
  }
 },
 "nbformat": 4,
 "nbformat_minor": 4
}
