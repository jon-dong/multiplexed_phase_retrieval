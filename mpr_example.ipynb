{
 "cells": [
  {
   "cell_type": "code",
   "execution_count": 1,
   "metadata": {},
   "outputs": [],
   "source": [
    "import numpy as np\n",
    "import matplotlib.pyplot as plt\n",
    "import seaborn"
   ]
  },
  {
   "cell_type": "markdown",
   "metadata": {},
   "source": [
    "# Initialization"
   ]
  },
  {
   "cell_type": "code",
   "execution_count": 5,
   "metadata": {},
   "outputs": [
    {
     "name": "stdout",
     "output_type": "stream",
     "text": [
      "Current oversampling: 10.0\n"
     ]
    }
   ],
   "source": [
    "n = 1280  # number of samples\n",
    "d = 128  # input dimension\n",
    "k = 2  # number of hidden nodes\n",
    "print(f\"Current oversampling: {n / d}\")\n",
    "\n",
    "X = np.random.randn(d, n) + 1j * np.random.randn(d, n)  # inputs\n",
    "T_true = np.random.randn(k, d) + 1j * np.random.randn(k, d)  # weight matrix\n",
    "W = np.array([0.7, 1])  # second layer coefficients, must be of size k\n",
    "\n",
    "y = W @ (np.abs(T_true @ X) ** 2)  # measured total intensities"
   ]
  },
  {
   "cell_type": "markdown",
   "metadata": {},
   "source": [
    "# Reconstruction"
   ]
  },
  {
   "cell_type": "code",
   "execution_count": 6,
   "metadata": {},
   "outputs": [],
   "source": [
    "Z = X.conj() @ np.diag(y) @ X.T  # weighted covariance matrix\n",
    "\n",
    "from scipy.linalg import eigh\n",
    "lmax, xmax = eigh(Z, subset_by_index=[d-2, d-1])  # compute the 2 largest eigenvectors\n",
    "T_est = xmax.T"
   ]
  },
  {
   "cell_type": "markdown",
   "metadata": {},
   "source": [
    "# Evaluation"
   ]
  },
  {
   "cell_type": "code",
   "execution_count": 7,
   "metadata": {},
   "outputs": [
    {
     "name": "stdout",
     "output_type": "stream",
     "text": [
      "Index 0 correlation: 0.3133464007970775\n",
      "Index 1 correlation: 0.6600189968951925\n"
     ]
    }
   ],
   "source": [
    "for i in range(k):\n",
    "    t_true = T_true[i, :]\n",
    "    t_est = T_est[i, :]\n",
    "    corr = np.abs(t_true.T.conj() @ t_est) / np.linalg.norm(t_true) / np.linalg.norm(t_est)\n",
    "    print(f\"Index {i} correlation: {corr}\")"
   ]
  }
 ],
 "metadata": {
  "kernelspec": {
   "display_name": "Python 3",
   "language": "python",
   "name": "python3"
  },
  "language_info": {
   "codemirror_mode": {
    "name": "ipython",
    "version": 3
   },
   "file_extension": ".py",
   "mimetype": "text/x-python",
   "name": "python",
   "nbconvert_exporter": "python",
   "pygments_lexer": "ipython3",
   "version": "3.6.9"
  }
 },
 "nbformat": 4,
 "nbformat_minor": 2
}
